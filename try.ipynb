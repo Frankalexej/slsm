{
 "cells": [
  {
   "attachments": {},
   "cell_type": "markdown",
   "metadata": {},
   "source": [
    "# Gensim Word2Vec Pretrained model\n",
    "[Gensim Documentation](https://radimrehurek.com/gensim/models/word2vec.html)  \n",
    "[Gensim Documentation](https://radimrehurek.com/gensim/models/word2vec.html)"
   ]
  },
  {
   "cell_type": "code",
   "execution_count": 1,
   "metadata": {},
   "outputs": [],
   "source": [
    "import gensim.downloader"
   ]
  },
  {
   "cell_type": "code",
   "execution_count": 2,
   "metadata": {},
   "outputs": [
    {
     "name": "stdout",
     "output_type": "stream",
     "text": [
      "['fasttext-wiki-news-subwords-300', 'conceptnet-numberbatch-17-06-300', 'word2vec-ruscorpora-300', 'word2vec-google-news-300', 'glove-wiki-gigaword-50', 'glove-wiki-gigaword-100', 'glove-wiki-gigaword-200', 'glove-wiki-gigaword-300', 'glove-twitter-25', 'glove-twitter-50', 'glove-twitter-100', 'glove-twitter-200', '__testing_word2vec-matrix-synopsis']\n"
     ]
    }
   ],
   "source": [
    "# Show all available models in gensim-data\n",
    "print(list(gensim.downloader.info()['models'].keys()))"
   ]
  },
  {
   "cell_type": "code",
   "execution_count": 3,
   "metadata": {},
   "outputs": [
    {
     "name": "stdout",
     "output_type": "stream",
     "text": [
      "[==================================================] 100.0% 66.0/66.0MB downloaded\n"
     ]
    }
   ],
   "source": [
    "# Download the \"glove-wiki-gigaword-50\" embeddings\n",
    "glove_vectors = gensim.downloader.load('glove-wiki-gigaword-50')"
   ]
  },
  {
   "cell_type": "code",
   "execution_count": 4,
   "metadata": {},
   "outputs": [
    {
     "data": {
      "text/plain": [
       "[('facebook', 0.9333045482635498),\n",
       " ('myspace', 0.8801369071006775),\n",
       " ('youtube', 0.8430657982826233),\n",
       " ('blog', 0.8262056112289429),\n",
       " ('blogs', 0.8064824342727661),\n",
       " ('blogging', 0.7970671653747559),\n",
       " ('tumblr', 0.7901089787483215),\n",
       " ('email', 0.7782612442970276),\n",
       " ('tweets', 0.7604536414146423),\n",
       " ('e-mail', 0.7538726925849915)]"
      ]
     },
     "execution_count": 4,
     "metadata": {},
     "output_type": "execute_result"
    }
   ],
   "source": [
    "# Use the downloaded vectors as usual:\n",
    "glove_vectors.most_similar('twitter')"
   ]
  },
  {
   "cell_type": "code",
   "execution_count": 6,
   "metadata": {},
   "outputs": [],
   "source": [
    "# Get vector representation of a word: \n",
    "twittervec = glove_vectors[\"twitter\"]"
   ]
  },
  {
   "cell_type": "code",
   "execution_count": 7,
   "metadata": {},
   "outputs": [
    {
     "data": {
      "text/plain": [
       "array([ 0.55473  ,  0.14251  ,  1.577    ,  0.44222  , -0.40965  ,\n",
       "       -0.24373  , -1.2366   , -0.64589  ,  0.31804  ,  0.48623  ,\n",
       "       -0.20947  ,  0.019861 , -0.28046  , -0.64705  ,  0.87607  ,\n",
       "       -0.28965  , -1.1877   , -0.22703  ,  0.73132  ,  0.064986 ,\n",
       "        0.34437  , -0.044798 ,  0.85787  ,  1.0463   ,  1.3781   ,\n",
       "       -0.21831  ,  0.45545  , -0.36639  , -0.32279  , -0.34018  ,\n",
       "        1.5663   , -0.028824 ,  0.0062708, -0.62084  , -1.3351   ,\n",
       "        0.082663 , -0.085856 , -0.67657  , -1.1872   , -0.40016  ,\n",
       "        1.1583   , -0.50842  , -1.8528   ,  0.49679  ,  0.94368  ,\n",
       "       -0.97676  ,  0.30505  ,  0.15514  ,  0.26331  , -0.10485  ],\n",
       "      dtype=float32)"
      ]
     },
     "execution_count": 7,
     "metadata": {},
     "output_type": "execute_result"
    }
   ],
   "source": [
    "twittervec"
   ]
  },
  {
   "cell_type": "code",
   "execution_count": 8,
   "metadata": {},
   "outputs": [
    {
     "data": {
      "text/plain": [
       "(50,)"
      ]
     },
     "execution_count": 8,
     "metadata": {},
     "output_type": "execute_result"
    }
   ],
   "source": [
    "twittervec.shape"
   ]
  },
  {
   "cell_type": "code",
   "execution_count": 9,
   "metadata": {},
   "outputs": [
    {
     "data": {
      "text/plain": [
       "0.16444375"
      ]
     },
     "execution_count": 9,
     "metadata": {},
     "output_type": "execute_result"
    }
   ],
   "source": [
    "# Compare two words (similarity)\n",
    "glove_vectors.similarity(\"twitter\", \"bird\")"
   ]
  },
  {
   "cell_type": "code",
   "execution_count": 27,
   "metadata": {},
   "outputs": [
    {
     "data": {
      "text/plain": [
       "[('tokyo', 0.8601076602935791),\n",
       " ('osaka', 0.7409549951553345),\n",
       " ('japanese', 0.7389465570449829),\n",
       " ('beijing', 0.7347947359085083),\n",
       " ('seoul', 0.7305870056152344),\n",
       " ('shanghai', 0.7251009345054626),\n",
       " ('moscow', 0.6595563292503357),\n",
       " ('korean', 0.6588658094406128),\n",
       " ('opens', 0.6569515466690063),\n",
       " ('china', 0.6561898589134216)]"
      ]
     },
     "execution_count": 27,
     "metadata": {},
     "output_type": "execute_result"
    }
   ],
   "source": [
    "# berlin - germany + japan = ?\n",
    "# semantic relation test, but not very good on verb tense\n",
    "glove_vectors.most_similar([\"berlin\", \"japan\"], [\"germany\"])"
   ]
  },
  {
   "cell_type": "code",
   "execution_count": null,
   "metadata": {},
   "outputs": [],
   "source": []
  }
 ],
 "metadata": {
  "kernelspec": {
   "display_name": "slsm",
   "language": "python",
   "name": "python3"
  },
  "language_info": {
   "codemirror_mode": {
    "name": "ipython",
    "version": 3
   },
   "file_extension": ".py",
   "mimetype": "text/x-python",
   "name": "python",
   "nbconvert_exporter": "python",
   "pygments_lexer": "ipython3",
   "version": "3.11.3"
  },
  "orig_nbformat": 4
 },
 "nbformat": 4,
 "nbformat_minor": 2
}
