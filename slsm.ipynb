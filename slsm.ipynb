{
 "cells": [
  {
   "cell_type": "code",
   "execution_count": 4,
   "metadata": {},
   "outputs": [],
   "source": [
    "from gensim.models import KeyedVectors\n",
    "import pandas as pd"
   ]
  },
  {
   "cell_type": "code",
   "execution_count": 2,
   "metadata": {},
   "outputs": [],
   "source": [
    "wv_from_text = KeyedVectors.load_word2vec_format(\"../src/toastynews.vec\", binary=False)"
   ]
  },
  {
   "cell_type": "code",
   "execution_count": 3,
   "metadata": {},
   "outputs": [],
   "source": [
    "wv = wv_from_text"
   ]
  },
  {
   "cell_type": "code",
   "execution_count": 32,
   "metadata": {},
   "outputs": [
    {
     "data": {
      "text/plain": [
       "[('跳傘', 0.544535219669342),\n",
       " ('溜冰', 0.5368380546569824),\n",
       " ('跑跳', 0.5199945569038391),\n",
       " ('滑翔', 0.4985131025314331),\n",
       " ('滑行', 0.49788039922714233),\n",
       " ('玩水', 0.4943167269229889),\n",
       " ('打波', 0.4911043047904968),\n",
       " ('滑水', 0.4895446002483368),\n",
       " ('跳上去', 0.4874389171600342),\n",
       " ('滑下', 0.47861266136169434),\n",
       " ('打籃球', 0.47582077980041504),\n",
       " ('滑雪板', 0.4752342402935028),\n",
       " ('腳踏車', 0.4749809503555298),\n",
       " ('踩車', 0.47264739871025085),\n",
       " ('彈跳', 0.4684738218784332),\n",
       " ('滑翔傘', 0.4674450159072876),\n",
       " ('踩下', 0.46541908383369446),\n",
       " ('跑邊', 0.4646003544330597),\n",
       " ('跳跳', 0.4639034569263458),\n",
       " ('飛邊', 0.4635488986968994),\n",
       " ('玩著', 0.4630483090877533),\n",
       " ('踏板', 0.46169763803482056),\n",
       " ('飛住', 0.45984572172164917),\n",
       " ('散步', 0.45917415618896484),\n",
       " ('打球', 0.4590715765953064),\n",
       " ('跑跑跳跳', 0.4588293731212616),\n",
       " ('游水', 0.4586943984031677),\n",
       " ('彈飛', 0.4573536515235901),\n",
       " ('衝浪', 0.4573422372341156),\n",
       " ('吹泡泡', 0.4567471742630005),\n",
       " ('攀爬', 0.4552578032016754),\n",
       " ('跳起', 0.45473960041999817),\n",
       " ('滑浪', 0.45473337173461914),\n",
       " ('跳街舞', 0.45449185371398926),\n",
       " ('玩手', 0.4537036120891571),\n",
       " ('玩邊', 0.4502701759338379),\n",
       " ('攀岩', 0.45008066296577454),\n",
       " ('跳舞', 0.44946664571762085),\n",
       " ('溜冰鞋', 0.4489510655403137),\n",
       " ('浪板', 0.4486650228500366),\n",
       " ('跳腳', 0.44862109422683716),\n",
       " ('腳仔', 0.4484271705150604),\n",
       " ('爬上去', 0.447239488363266),\n",
       " ('跑步', 0.44692522287368774),\n",
       " ('飛開', 0.44444411993026733),\n",
       " ('踩住', 0.4441981613636017),\n",
       " ('玩耍', 0.4438422918319702),\n",
       " ('跳跳舞', 0.44380515813827515),\n",
       " ('跳班', 0.44329383969306946),\n",
       " ('踩頭', 0.44273144006729126),\n",
       " ('飛下', 0.442278653383255),\n",
       " ('攀石', 0.4419716000556946),\n",
       " ('游玩', 0.44156932830810547),\n",
       " ('飛飛', 0.4404122531414032),\n",
       " ('玩住', 0.4400908052921295),\n",
       " ('慢跑', 0.43939730525016785),\n",
       " ('玩沙', 0.4383714497089386),\n",
       " ('彈去', 0.4377424120903015),\n",
       " ('飛毛腿', 0.43691062927246094),\n",
       " ('玩', 0.43624234199523926),\n",
       " ('上腳', 0.43475210666656494),\n",
       " ('飛架', 0.43460699915885925),\n",
       " ('爬樹', 0.43413248658180237),\n",
       " ('玩車', 0.4331803023815155),\n",
       " ('跑下', 0.4324151575565338),\n",
       " ('爬下', 0.43188297748565674),\n",
       " ('打乒乓球', 0.4311303496360779),\n",
       " ('踢足球', 0.42993757128715515),\n",
       " ('玩時', 0.4290564954280853),\n",
       " ('踏', 0.4289785921573639),\n",
       " ('狂玩', 0.4280584454536438),\n",
       " ('嬉戲', 0.42736801505088806),\n",
       " ('手到', 0.4269004762172699),\n",
       " ('滑梯', 0.4257577359676361),\n",
       " ('肚皮舞', 0.42551496624946594),\n",
       " ('跳彈', 0.42535582184791565),\n",
       " ('滑到', 0.4249984323978424),\n",
       " ('飛踢', 0.4247146248817444),\n",
       " ('爬梯', 0.4242091476917267),\n",
       " ('跳台', 0.423650860786438),\n",
       " ('腳踏', 0.4234539866447449),\n",
       " ('腳背', 0.4230493903160095),\n",
       " ('滑板車', 0.4229200780391693),\n",
       " ('飛馳', 0.42200934886932373),\n",
       " ('滑牛', 0.4200986921787262),\n",
       " ('踩點', 0.4193558096885681),\n",
       " ('撞去', 0.41911429166793823),\n",
       " ('踩踏', 0.4190540909767151),\n",
       " ('跑酷', 0.41848477721214294),\n",
       " ('腳落', 0.41690871119499207),\n",
       " ('腳面', 0.41687700152397156),\n",
       " ('上山下海', 0.41683298349380493),\n",
       " ('手拖手', 0.4164208769798279),\n",
       " ('爬樓梯', 0.4160880148410797),\n",
       " ('滑雪', 0.4153834283351898),\n",
       " ('滑石', 0.4150644838809967),\n",
       " ('滑彈', 0.41505080461502075),\n",
       " ('行山', 0.41461440920829773),\n",
       " ('腳車', 0.4143889248371124),\n",
       " ('踢腳', 0.41429656744003296)]"
      ]
     },
     "execution_count": 32,
     "metadata": {},
     "output_type": "execute_result"
    }
   ],
   "source": [
    "wv.most_similar([\"滑板\", \"踩單車\"], [\"單車\"], topn=100)"
   ]
  },
  {
   "cell_type": "code",
   "execution_count": 44,
   "metadata": {},
   "outputs": [
    {
     "data": {
      "text/plain": [
       "[('百葉', 0.7031192779541016),\n",
       " ('大窗', 0.6824648976325989),\n",
       " ('窗門', 0.6610889434814453),\n",
       " ('小窗', 0.6562526822090149),\n",
       " ('門窗', 0.6499421000480652),\n",
       " ('窗', 0.6499367952346802),\n",
       " ('通風窗', 0.631084680557251),\n",
       " ('鋁窗', 0.630899965763092),\n",
       " ('窗戶', 0.6242531538009644),\n",
       " ('鐵窗', 0.6165266633033752)]"
      ]
     },
     "execution_count": 44,
     "metadata": {},
     "output_type": "execute_result"
    }
   ],
   "source": [
    "wv.most_similar(\"百葉窗\")"
   ]
  },
  {
   "cell_type": "code",
   "execution_count": 16,
   "metadata": {},
   "outputs": [
    {
     "data": {
      "text/plain": [
       "0.3643237"
      ]
     },
     "execution_count": 16,
     "metadata": {},
     "output_type": "execute_result"
    }
   ],
   "source": [
    "wv.similarity(\"垃圾\", \"堆\") # good"
   ]
  },
  {
   "cell_type": "code",
   "execution_count": null,
   "metadata": {},
   "outputs": [],
   "source": [
    "# Read excel file as a pandas DataFrame\n",
    "df = pd.read_csv('HKSL_src.csv')\n",
    "\n",
    "# Create a new column called \"corr_cantonese\"\n",
    "df.insert(6,'1st','')\n",
    "# df.insert(7,'mapped_NewFileName','')\n",
    "df.insert(7,'3rd','')\n",
    "df.insert(8,'5th','')\n",
    "df.insert(9,'10th','')\n",
    "df.insert(10,'-1','')\n",
    "\n",
    "wordlist = df['cantonese_orig'].tolist()\n",
    "filenamelist = df['NewFileName'].tolist()\n",
    "\n",
    "# Loop through the Cantonese_Filtered column\n",
    "for index, word in enumerate(wordlist):\n",
    "    # Check if word is empty or not in vocab\n",
    "    if not word or (word not in wv.key_to_index):\n",
    "        df.at[index, '1st'] = 'NOTIN'\n",
    "        df.at[index, 'cantonese_map_furthest'] = 'NOTIN'\n",
    "    else:\n",
    "        # Find the most similar word in the wordlist\n",
    "        # most_similar_word = None\n",
    "        # highest_similarity = -1\n",
    "        # least_similar_word = None\n",
    "        # lowest_similarity = 0\n",
    "        similarityList = []\n",
    "        similarityWordList = []\n",
    "        \n",
    "        for innerword in wordlist:\n",
    "            if innerword == word: \n",
    "                continue\n",
    "            if not innerword or (innerword not in wv.key_to_index): \n",
    "                continue\n",
    "            similarity = wv.similarity(word, innerword)\n",
    "            \n",
    "            # if similarity > highest_similarity:\n",
    "            #     most_similar_word = innerword\n",
    "            #     highest_similarity = similarity\n",
    "            # elif similarity < highest_similarity:\n",
    "            #     least_similar_word = innerword\n",
    "            #     lowest_similarity = similarity\n",
    "                \n",
    "            # method 2\n",
    "            similarityList.append(similarity)\n",
    "            similarityList.sort(reverse=True)\n",
    "            idx = similarityList.index(similarity)\n",
    "            similarityWordList.insert(idx, innerword)   \n",
    "            \n",
    "            f = open(f'words/{word}.txt', \"w\", encoding=\"utf-8\")\n",
    "            # f.write(most_similar_word)\n",
    "            f.write(word)\n",
    "            f.write(\"\\n\")\n",
    "            for i in range(len(similarityList)):\n",
    "                f.write(str(similarityWordList[i]))\n",
    "                f.write(\" \")\n",
    "                f.write(str(similarityList[i]))\n",
    "                if(i==0 or i==2 or i==4 or i==9 or i==len(similarityList)-1):\n",
    "                    f.write(f\" <-- {i+1}\")\n",
    "                f.write(\"\\n\")\n",
    "            f.close()\n",
    "            \n",
    "                 \n",
    "        # Fill in the corr_cantonese column with the most similar word found\n",
    "        # df.at[index, '1st'] = most_similar_word\n",
    "        # df.at[index, 'mapped_NewFileName'] = filenamelist[index]\n",
    "        # df.at[index, 'cantonese_map_furthest'] = least_similar_word\n",
    "        \n",
    "        # method 2\n",
    "        df.at[index, '1st'] = similarityWordList[0]\n",
    "        # df.at[index, 'mapped_NewFileName'] = filenamelist[index]\n",
    "        df.at[index, '3rd'] = similarityWordList[2]\n",
    "        df.at[index, '5th'] = similarityWordList[4]\n",
    "        df.at[index, '10th'] = similarityWordList[9]\n",
    "        df.at[index, '-1'] = similarityWordList[-1]\n",
    "\n",
    "# Save the DataFrame to a new excel file\n",
    "df.to_excel('HKSL_added.xlsx', index=False)\n"
   ]
  },
  {
   "cell_type": "code",
   "execution_count": null,
   "metadata": {},
   "outputs": [],
   "source": []
  }
 ],
 "metadata": {
  "kernelspec": {
   "display_name": "slprt",
   "language": "python",
   "name": "python3"
  },
  "language_info": {
   "codemirror_mode": {
    "name": "ipython",
    "version": 3
   },
   "file_extension": ".py",
   "mimetype": "text/x-python",
   "name": "python",
   "nbconvert_exporter": "python",
   "pygments_lexer": "ipython3",
   "version": "3.11.3"
  },
  "orig_nbformat": 4
 },
 "nbformat": 4,
 "nbformat_minor": 2
}
