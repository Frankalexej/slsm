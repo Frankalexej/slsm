{
 "cells": [
  {
   "cell_type": "code",
   "execution_count": 4,
   "metadata": {},
   "outputs": [],
   "source": [
    "from gensim.models import KeyedVectors\n",
    "import pandas as pd"
   ]
  },
  {
   "cell_type": "code",
   "execution_count": 2,
   "metadata": {},
   "outputs": [],
   "source": [
    "wv_from_text = KeyedVectors.load_word2vec_format(\"../src/toastynews.vec\", binary=False)"
   ]
  },
  {
   "cell_type": "code",
   "execution_count": 3,
   "metadata": {},
   "outputs": [],
   "source": [
    "wv = wv_from_text"
   ]
  },
  {
   "cell_type": "code",
   "execution_count": 17,
   "metadata": {},
   "outputs": [
    {
     "data": {
      "text/plain": [
       "[('用風筒', 0.7573522329330444),\n",
       " ('風機', 0.6421161890029907),\n",
       " ('水筒', 0.6419128179550171),\n",
       " ('吹頭', 0.6220051646232605),\n",
       " ('滾筒', 0.5899234414100647),\n",
       " ('水壺', 0.583553671836853),\n",
       " ('電風扇', 0.5783816576004028),\n",
       " ('筆筒', 0.5723881125450134),\n",
       " ('風扇', 0.5717660188674927),\n",
       " ('風箱', 0.5617756247520447)]"
      ]
     },
     "execution_count": 17,
     "metadata": {},
     "output_type": "execute_result"
    }
   ],
   "source": [
    "wv.most_similar(\"風筒\")"
   ]
  },
  {
   "cell_type": "code",
   "execution_count": 16,
   "metadata": {},
   "outputs": [
    {
     "data": {
      "text/plain": [
       "0.3643237"
      ]
     },
     "execution_count": 16,
     "metadata": {},
     "output_type": "execute_result"
    }
   ],
   "source": [
    "wv.similarity(\"垃圾\", \"堆\") # good"
   ]
  },
  {
   "cell_type": "code",
   "execution_count": null,
   "metadata": {},
   "outputs": [
    {
     "ename": "KeyboardInterrupt",
     "evalue": "",
     "output_type": "error",
     "traceback": [
      "\u001b[1;31m---------------------------------------------------------------------------\u001b[0m\n",
      "\u001b[1;31mKeyboardInterrupt\u001b[0m                         Traceback (most recent call last)\n",
      "Cell \u001b[1;32mIn[28], line 26\u001b[0m\n",
      "\u001b[0;32m     24\u001b[0m \u001b[39mif\u001b[39;00m \u001b[39mnot\u001b[39;00m innerword \u001b[39mor\u001b[39;00m (innerword \u001b[39mnot\u001b[39;00m \u001b[39min\u001b[39;00m wv\u001b[39m.\u001b[39mkey_to_index): \n",
      "\u001b[0;32m     25\u001b[0m     \u001b[39mcontinue\u001b[39;00m\n",
      "\u001b[1;32m---> 26\u001b[0m similarity \u001b[39m=\u001b[39m wv\u001b[39m.\u001b[39msimilarity(word, innerword)\n",
      "\u001b[0;32m     28\u001b[0m \u001b[39mif\u001b[39;00m similarity \u001b[39m>\u001b[39m highest_similarity:\n",
      "\u001b[0;32m     29\u001b[0m     most_similar_word \u001b[39m=\u001b[39m innerword\n",
      "\n",
      "File \u001b[1;32ma:\\ProgramData\\anaconda3\\envs\\slsm\\Lib\\site-packages\\gensim\\models\\keyedvectors.py:1234\u001b[0m, in \u001b[0;36mKeyedVectors.similarity\u001b[1;34m(self, w1, w2)\u001b[0m\n",
      "\u001b[0;32m   1218\u001b[0m \u001b[39mdef\u001b[39;00m \u001b[39msimilarity\u001b[39m(\u001b[39mself\u001b[39m, w1, w2):\n",
      "\u001b[0;32m   1219\u001b[0m \u001b[39m    \u001b[39m\u001b[39m\"\"\"Compute cosine similarity between two keys.\u001b[39;00m\n",
      "\u001b[0;32m   1220\u001b[0m \n",
      "\u001b[0;32m   1221\u001b[0m \u001b[39m    Parameters\u001b[39;00m\n",
      "\u001b[1;32m   (...)\u001b[0m\n",
      "\u001b[0;32m   1232\u001b[0m \n",
      "\u001b[0;32m   1233\u001b[0m \u001b[39m    \"\"\"\u001b[39;00m\n",
      "\u001b[1;32m-> 1234\u001b[0m     \u001b[39mreturn\u001b[39;00m dot(matutils\u001b[39m.\u001b[39munitvec(\u001b[39mself\u001b[39m[w1]), matutils\u001b[39m.\u001b[39munitvec(\u001b[39mself\u001b[39m[w2]))\n",
      "\n",
      "File \u001b[1;32ma:\\ProgramData\\anaconda3\\envs\\slsm\\Lib\\site-packages\\gensim\\matutils.py:752\u001b[0m, in \u001b[0;36munitvec\u001b[1;34m(vec, norm, return_norm)\u001b[0m\n",
      "\u001b[0;32m    750\u001b[0m         veclen \u001b[39m=\u001b[39m \u001b[39m0.0\u001b[39m\n",
      "\u001b[0;32m    751\u001b[0m     \u001b[39melse\u001b[39;00m:\n",
      "\u001b[1;32m--> 752\u001b[0m         veclen \u001b[39m=\u001b[39m blas_nrm2(vec)\n",
      "\u001b[0;32m    753\u001b[0m \u001b[39mif\u001b[39;00m norm \u001b[39m==\u001b[39m \u001b[39m'\u001b[39m\u001b[39munique\u001b[39m\u001b[39m'\u001b[39m:\n",
      "\u001b[0;32m    754\u001b[0m     veclen \u001b[39m=\u001b[39m np\u001b[39m.\u001b[39mcount_nonzero(vec)\n",
      "\n",
      "\u001b[1;31mKeyboardInterrupt\u001b[0m: "
     ]
    }
   ],
   "source": [
    "# Read excel file as a pandas DataFrame\n",
    "df = pd.read_csv('HKSL_src.csv')\n",
    "\n",
    "# Create a new column called \"corr_cantonese\"\n",
    "df.insert(6,'cantonese_map','')\n",
    "df.insert(7,'mapped_NewFileName','')\n",
    "\n",
    "wordlist = df['cantonese_orig'].tolist()\n",
    "filenamelist = df['NewFileName'].tolist()\n",
    "\n",
    "# Loop through the Cantonese_Filtered column\n",
    "for index, word in enumerate(wordlist):\n",
    "    # Check if word is empty or not in vocab\n",
    "    if not word or (word not in wv.key_to_index):\n",
    "        df.at[index, 'cantonese_map'] = 'NOTIN'\n",
    "    else:\n",
    "        # Find the most similar word in the wordlist\n",
    "        most_similar_word = None\n",
    "        highest_similarity = -1\n",
    "        \n",
    "        for innerword in wordlist:\n",
    "            if innerword == word: \n",
    "                continue\n",
    "            if not innerword or (innerword not in wv.key_to_index): \n",
    "                continue\n",
    "            similarity = wv.similarity(word, innerword)\n",
    "            \n",
    "            if similarity > highest_similarity:\n",
    "                most_similar_word = innerword\n",
    "                highest_similarity = similarity\n",
    "        \n",
    "        # Fill in the corr_cantonese column with the most similar word found\n",
    "        df.at[index, 'cantonese_map'] = most_similar_word\n",
    "        df.at[index, 'mapped_NewFileName'] = filenamelist[index]\n",
    "\n",
    "# Save the DataFrame to a new excel file\n",
    "df.to_excel('HKSL_added.xlsx', index=False)\n"
   ]
  },
  {
   "cell_type": "code",
   "execution_count": null,
   "metadata": {},
   "outputs": [],
   "source": []
  }
 ],
 "metadata": {
  "kernelspec": {
   "display_name": "slprt",
   "language": "python",
   "name": "python3"
  },
  "language_info": {
   "codemirror_mode": {
    "name": "ipython",
    "version": 3
   },
   "file_extension": ".py",
   "mimetype": "text/x-python",
   "name": "python",
   "nbconvert_exporter": "python",
   "pygments_lexer": "ipython3",
   "version": "3.11.3"
  },
  "orig_nbformat": 4
 },
 "nbformat": 4,
 "nbformat_minor": 2
}
